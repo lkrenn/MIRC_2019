{
 "cells": [
  {
   "cell_type": "code",
   "execution_count": 11,
   "metadata": {},
   "outputs": [],
   "source": [
    "import eikon as ek\n",
    "import numpy as np\n",
    "import pandas as pd\n",
    "from eikon import EikonError\n",
    "import datetime\n",
    "import time\n",
    "ek.set_app_key('f01a5002bf4649578cf705c13f7d30d9bdcf2c9d')"
   ]
  },
  {
   "cell_type": "code",
   "execution_count": 12,
   "metadata": {},
   "outputs": [],
   "source": [
    "filePath = r'C:\\Users\\Keavan\\Jupyter\\Economics'"
   ]
  },
  {
   "cell_type": "code",
   "execution_count": 24,
   "metadata": {},
   "outputs": [],
   "source": [
    "def bond_info(bond_search):\n",
    "    codes = list(pd.read_csv(filePath + r'\\Corporate_Bonds\\FI_eikon_codes.csv')['eikon_code'])\n",
    "    \n",
    "    bonds, err = ek.get_data('{}'.format(bond_search), fields='TR.bondISIN') #shows all outstanding bonds of issuer\n",
    "    bonds['Bond ISIN']\n",
    "    bonds = bonds.set_index('Bond ISIN')\n",
    "    bonds = bonds.drop('Instrument', axis = 1)\n",
    "    bond_info, err = ek.get_data(bonds.index[0], fields=codes) \n",
    "    \n",
    "    index = 0\n",
    "    try:\n",
    "        for i in bonds.index:\n",
    "            bond_addition, err = ek.get_data(i, fields=codes)\n",
    "            frames = [bond_info, bond_addition]\n",
    "            bond_info = pd.concat(frames, sort=False)\n",
    "            completion = (index / bonds.shape[0]) * 100\n",
    "            \n",
    "            print('%.1f%% complete: %s was added' % (completion, i))\n",
    "            index += 1\n",
    "            \n",
    "    except Exception as e: \n",
    "        bond_info.to_csv(filePath + r'\\portfolio_tools\\data\\{}_{}.csv'.format(bond_search, index)) #saves temp file of info exported\n",
    "        print('Exported early due to exception: %s' % e)\n",
    "    \n",
    "    bond_info = bond_info.set_index('Instrument')\n",
    "    bond_info.to_csv(filePath + r'\\portfolio_tools\\data\\{}.csv'.format(bond_search))\n",
    "    print('Successfully exported')"
   ]
  },
  {
   "cell_type": "code",
   "execution_count": 25,
   "metadata": {
    "scrolled": true
   },
   "outputs": [
    {
     "name": "stdout",
     "output_type": "stream",
     "text": [
      "0.0% complete: US008911AH28 was added\n",
      "9.1% complete: CA008911BB41 was added\n",
      "18.2% complete: CA008911BC24 was added\n",
      "27.3% complete: USU0092TAA08 was added\n",
      "36.4% complete: US009088AC93 was added\n",
      "45.5% complete: USC0103PAB34 was added\n",
      "54.5% complete: USC0103PAA50 was added\n",
      "63.6% complete: US009088AA38 was added\n",
      "72.7% complete: US009088AB11 was added\n",
      "81.8% complete: USC01026BA71 was added\n",
      "90.9% complete: US008911AZ26 was added\n",
      "Successfully exported\n"
     ]
    }
   ],
   "source": [
    "bond_info('AC.TO')"
   ]
  }
 ],
 "metadata": {
  "kernelspec": {
   "display_name": "Python 3",
   "language": "python",
   "name": "python3"
  },
  "language_info": {
   "codemirror_mode": {
    "name": "ipython",
    "version": 3
   },
   "file_extension": ".py",
   "mimetype": "text/x-python",
   "name": "python",
   "nbconvert_exporter": "python",
   "pygments_lexer": "ipython3",
   "version": "3.7.6"
  }
 },
 "nbformat": 4,
 "nbformat_minor": 4
}
