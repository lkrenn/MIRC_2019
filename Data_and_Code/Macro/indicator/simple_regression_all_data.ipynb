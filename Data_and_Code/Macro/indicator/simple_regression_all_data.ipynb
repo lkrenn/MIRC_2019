{
 "cells": [
  {
   "cell_type": "code",
   "execution_count": 1,
   "metadata": {},
   "outputs": [
    {
     "data": {
      "text/html": [
       "<style>.container {width:90% !important;}</style>"
      ],
      "text/plain": [
       "<IPython.core.display.HTML object>"
      ]
     },
     "metadata": {},
     "output_type": "display_data"
    }
   ],
   "source": [
    "from IPython.core.display import display, HTML\n",
    "display(HTML(\"<style>.container {width:90% !important;}</style>\"))"
   ]
  },
  {
   "cell_type": "code",
   "execution_count": 2,
   "metadata": {},
   "outputs": [
    {
     "name": "stderr",
     "output_type": "stream",
     "text": [
      "c:\\users\\keavan\\appdata\\local\\programs\\python\\python37\\lib\\site-packages\\pandas_datareader\\compat\\__init__.py:7: FutureWarning: pandas.util.testing is deprecated. Use the functions in the public API at pandas.testing instead.\n",
      "  from pandas.util.testing import assert_frame_equal\n"
     ]
    }
   ],
   "source": [
    "import pandas as pd\n",
    "import statsmodels.formula.api as smf\n",
    "import datetime as dt\n",
    "import pandas_datareader as web\n",
    "import numpy as np\n",
    "import matplotlib.pyplot as plt\n",
    "import statistics as stat"
   ]
  },
  {
   "cell_type": "code",
   "execution_count": 3,
   "metadata": {},
   "outputs": [],
   "source": [
    "fileDir = r'C:\\Users\\Keavan\\Jupyter\\Economics\\Indicator'"
   ]
  },
  {
   "cell_type": "code",
   "execution_count": 4,
   "metadata": {},
   "outputs": [
    {
     "data": {
      "text/plain": [
       "'2006-12-01'"
      ]
     },
     "execution_count": 4,
     "metadata": {},
     "output_type": "execute_result"
    }
   ],
   "source": [
    "def set_start_date():\n",
    "    indicators = pd.read_csv(fileDir + r'\\ref\\indicators.csv', header = 0)\n",
    "    indicators['observation_start'] = pd.to_datetime(indicators['observation_start'])\n",
    "    global start\n",
    "    start = max(indicators['observation_start']).strftime('%Y-%m-%d')\n",
    "    \n",
    "set_start_date()\n",
    "\n",
    "end = dt.datetime.today().strftime('%Y-%m-%d')\n",
    "start"
   ]
  },
  {
   "cell_type": "code",
   "execution_count": 5,
   "metadata": {},
   "outputs": [],
   "source": [
    "def data_export(start, end): \n",
    "    \n",
    "    indicators = pd.read_csv(fileDir + r'\\ref\\indicators.csv', header = 0) #indicators.csv or indicators_shortlist.csv\n",
    "    index = pd.date_range(start, end, freq='D') \n",
    "    df = pd.DataFrame(index = index)\n",
    "    \n",
    "    index_count = 0\n",
    "    \n",
    "    for i in indicators['fred_id']:\n",
    "        completion = (index_count / len(indicators['fred_id'])) * 100\n",
    "        df.insert(loc = 0, column = indicators['code'].iloc[index_count], value = web.DataReader(i, 'fred', start, end))\n",
    "        print('%.1f%% complete: %s successfully added to dataframe.' % (completion, i))\n",
    "        index_count += 1\n",
    "    \n",
    "    df.index.name = 'Date'\n",
    "    df.to_csv(fileDir + r'\\data\\indicator_data.csv', header = True)\n",
    "    print('Data export successful.')"
   ]
  },
  {
   "cell_type": "code",
   "execution_count": 6,
   "metadata": {
    "scrolled": true
   },
   "outputs": [
    {
     "name": "stdout",
     "output_type": "stream",
     "text": [
      "0.0% complete: PCUARETTRARETTR successfully added to dataframe.\n",
      "1.2% complete: PCUATRADEATRADE successfully added to dataframe.\n",
      "2.4% complete: WALCL successfully added to dataframe.\n",
      "3.7% complete: TREAST successfully added to dataframe.\n",
      "4.9% complete: WSHOMCB successfully added to dataframe.\n",
      "6.1% complete: EFFR successfully added to dataframe.\n",
      "7.3% complete: LNU04032231 successfully added to dataframe.\n",
      "8.5% complete: SPCS20RSA successfully added to dataframe.\n",
      "9.8% complete: SUUR0000SA0 successfully added to dataframe.\n",
      "11.0% complete: SUUR0000SA0L1E successfully added to dataframe.\n",
      "12.2% complete: CPN3M successfully added to dataframe.\n",
      "13.4% complete: U4RATE successfully added to dataframe.\n",
      "14.6% complete: MNFCTRMPCSMNSA successfully added to dataframe.\n",
      "15.9% complete: DGORDER successfully added to dataframe.\n",
      "17.1% complete: NEWORDER successfully added to dataframe.\n",
      "18.3% complete: MRTSMPCSM44000USS successfully added to dataframe.\n",
      "19.5% complete: ISRATIO successfully added to dataframe.\n",
      "20.7% complete: MNFCTRIMNSA successfully added to dataframe.\n",
      "22.0% complete: MNFCTRIRNSA successfully added to dataframe.\n",
      "23.2% complete: LNS17400000 successfully added to dataframe.\n",
      "24.4% complete: TEMPHELPS successfully added to dataframe.\n",
      "25.6% complete: DCOILBRENTEU successfully added to dataframe.\n",
      "26.8% complete: CSUSHPINSA successfully added to dataframe.\n",
      "28.0% complete: DCOILWTICO successfully added to dataframe.\n",
      "29.3% complete: WRESBAL successfully added to dataframe.\n",
      "30.5% complete: M2 successfully added to dataframe.\n",
      "31.7% complete: M1 successfully added to dataframe.\n",
      "32.9% complete: IPDMAN successfully added to dataframe.\n",
      "34.1% complete: IPNMAN successfully added to dataframe.\n",
      "35.4% complete: MCUMFN successfully added to dataframe.\n",
      "36.6% complete: MORTGAGE30US successfully added to dataframe.\n",
      "37.8% complete: IURSA successfully added to dataframe.\n",
      "39.0% complete: GOLDAMGBD228NLBM successfully added to dataframe.\n",
      "40.2% complete: UEMPMED successfully added to dataframe.\n",
      "41.5% complete: EUANDH successfully added to dataframe.\n",
      "42.7% complete: CC4WSA successfully added to dataframe.\n",
      "43.9% complete: CCSA successfully added to dataframe.\n",
      "45.1% complete: LNS13023706 successfully added to dataframe.\n",
      "46.3% complete: DGS1 successfully added to dataframe.\n",
      "47.6% complete: DGS5 successfully added to dataframe.\n",
      "48.8% complete: DGS10 successfully added to dataframe.\n",
      "50.0% complete: PERMIT successfully added to dataframe.\n",
      "51.2% complete: MABMM301USM189S successfully added to dataframe.\n",
      "52.4% complete: HOUSTNE successfully added to dataframe.\n",
      "53.7% complete: HOUSTS successfully added to dataframe.\n",
      "54.9% complete: HOUSTW successfully added to dataframe.\n",
      "56.1% complete: HOUSTMW successfully added to dataframe.\n",
      "57.3% complete: PCEPILFE successfully added to dataframe.\n",
      "58.5% complete: RPI successfully added to dataframe.\n",
      "59.8% complete: DTB6 successfully added to dataframe.\n",
      "61.0% complete: CPILFESL successfully added to dataframe.\n",
      "62.2% complete: IPB53200N successfully added to dataframe.\n",
      "63.4% complete: UNRATE successfully added to dataframe.\n",
      "64.6% complete: UNEMPLOY successfully added to dataframe.\n",
      "65.9% complete: UEMPMEAN successfully added to dataframe.\n",
      "67.1% complete: UEMP27OV successfully added to dataframe.\n",
      "68.3% complete: LNS14000036 successfully added to dataframe.\n",
      "69.5% complete: LNS14000024 successfully added to dataframe.\n",
      "70.7% complete: IPB51100N successfully added to dataframe.\n",
      "72.0% complete: IPB51200N successfully added to dataframe.\n",
      "73.2% complete: IPB52100N successfully added to dataframe.\n",
      "74.4% complete: IPB53100N successfully added to dataframe.\n",
      "75.6% complete: CPIAUCSL successfully added to dataframe.\n",
      "76.8% complete: IPB50002N successfully added to dataframe.\n",
      "78.0% complete: IPB51000N successfully added to dataframe.\n",
      "79.3% complete: IPB53000N successfully added to dataframe.\n",
      "80.5% complete: IPUTIL successfully added to dataframe.\n",
      "81.7% complete: USTRADE successfully added to dataframe.\n",
      "82.9% complete: USPRIV successfully added to dataframe.\n",
      "84.1% complete: USGOVT successfully added to dataframe.\n",
      "85.4% complete: USCONS successfully added to dataframe.\n",
      "86.6% complete: SRVPRD successfully added to dataframe.\n",
      "87.8% complete: TB3MS successfully added to dataframe.\n",
      "89.0% complete: WPU0911 successfully added to dataframe.\n",
      "90.2% complete: IPB50001N successfully added to dataframe.\n",
      "91.5% complete: IPMANSICS successfully added to dataframe.\n",
      "92.7% complete: IPMINE successfully added to dataframe.\n",
      "93.9% complete: AAA successfully added to dataframe.\n",
      "95.1% complete: BAA successfully added to dataframe.\n",
      "96.3% complete: AMBSL successfully added to dataframe.\n",
      "97.6% complete: PPIACO successfully added to dataframe.\n",
      "98.8% complete: PCE successfully added to dataframe.\n",
      "Data export successful.\n"
     ]
    }
   ],
   "source": [
    "data_export(start, end)"
   ]
  },
  {
   "cell_type": "code",
   "execution_count": 7,
   "metadata": {},
   "outputs": [],
   "source": [
    "def data_wrangling(start, end): \n",
    "    df = pd.read_csv(fileDir + r'\\data\\indicator_data.csv', header = 0).set_index('Date')\n",
    "    indicators = pd.read_csv(fileDir + r'\\ref\\indicators.csv', header = 0)\n",
    "    \n",
    "    index = pd.date_range(start, end, freq = 'MS')\n",
    "    \n",
    "    for i in df.columns:\n",
    "\n",
    "        freq = indicators['frequency_short'][int(indicators[indicators['code'] == i].index.values)]\n",
    "\n",
    "        if freq == 'D':\n",
    "            df[i] = df[i].ffill()\n",
    "        elif freq == 'W':\n",
    "            df[i] = df[i].fillna(df[i].rolling(8,  center = True, min_periods=1).mean())\n",
    "        elif freq == 'M':\n",
    "            pass\n",
    "        elif freq == 'Q': #STILL HAVE TO ADAPT TO HANDLE ANNUAL AND QUARTERLY DATA\n",
    "            pass\n",
    "        elif freq == 'A':\n",
    "            pass\n",
    "    \n",
    "    df.index = pd.to_datetime(df.index)\n",
    "    df = df[df.index.day == 1] #only takes first of each month\n",
    "    df = df.dropna()\n",
    "    df.to_csv(fileDir + r'\\data\\filled_nan.csv', header =True)"
   ]
  },
  {
   "cell_type": "code",
   "execution_count": 8,
   "metadata": {},
   "outputs": [],
   "source": [
    "data_wrangling(start, end)"
   ]
  },
  {
   "cell_type": "code",
   "execution_count": 9,
   "metadata": {},
   "outputs": [],
   "source": [
    "def model(output): #POOR FORECASTING ABILITY - NEED TO IMPROVE MODEL \n",
    "    data = pd.read_csv(fileDir + r'\\data\\filled_nan.csv', header = 0)\n",
    "    \n",
    "    size = int(data.shape[0] * 0.5) #size of training set makes model vary widely\n",
    "    train, test = data[0:size], data[size:len(data)]\n",
    "    \n",
    "    dependent_var = 'PCE'\n",
    "    \n",
    "    indicators = pd.read_csv(fileDir + r'\\ref\\indicators.csv', header = 0)\n",
    "    indicator_list_format = indicators['code'].tolist()\n",
    "    unwanted = {'CPI_AllItemExFoodEnergy', 'CPI_AllItemAllCityAvg', 'CPI_UrbanExFoodEnergy', \n",
    "                'CPI_IndexForAllUrbanConsumersAllItemsInUSCityAverage', 'PCE_ExFoodEnergy', dependent_var}\n",
    "    indicator_list = [e for e in indicator_list_format if e not in unwanted]\n",
    "    indicator_regression_list = \"+\".join([str(i) for i in indicator_list])\n",
    "    \n",
    "    model.lm = smf.ols(formula='{} ~ {}'.format(dependent_var, indicator_regression_list), data=train).fit()\n",
    "    ynewpred = model.lm.predict(test)\n",
    "    \n",
    "    test_data = test[dependent_var].to_numpy()\n",
    "    result = pd.DataFrame({'PCE': test_data, 'YPred': ynewpred}).astype(float)\n",
    "    result['Error^2'] = (result['PCE'] - result['YPred']) ** 2\n",
    "    model.MSE = result['Error^2'].mean()\n",
    "    del result['Error^2']\n",
    "    \n",
    "    if output == 'graph':\n",
    "        return result.plot(figsize=(15,8))\n",
    "    elif output == 'summary':\n",
    "        return model.lm.summary()\n",
    "    elif output == 'MSE':\n",
    "        return model.MSE"
   ]
  },
  {
   "cell_type": "code",
   "execution_count": 10,
   "metadata": {},
   "outputs": [
    {
     "data": {
      "text/plain": [
       "<matplotlib.axes._subplots.AxesSubplot at 0x1c246040408>"
      ]
     },
     "execution_count": 10,
     "metadata": {},
     "output_type": "execute_result"
    },
    {
     "data": {
      "image/png": "[encoded data removed]",
      "text/plain": [
       "<Figure size 1080x576 with 1 Axes>"
      ]
     },
     "metadata": {
      "needs_background": "light"
     },
     "output_type": "display_data"
    }
   ],
   "source": [
    "model('graph') #graph, summary or MSE"
   ]
  },
  {
   "cell_type": "code",
   "execution_count": 11,
   "metadata": {},
   "outputs": [],
   "source": [
    "def results_summary(results, fileNameToSave):\n",
    "    results_df = pd.DataFrame({\"pvals\":results.pvalues, \"coeff\":results.params, \n",
    "                               \"conf_lower\":results.conf_int()[0], \"conf_higher\":results.conf_int()[1]})\n",
    "    \n",
    "    results_df = results_df[[\"coeff\",\"pvals\",\"conf_lower\",\"conf_higher\"]]\n",
    "    results_df = results_df[results_df['pvals'] <= 0.05]\n",
    "    \n",
    "    results_df.index.name = 'indicators'\n",
    "        \n",
    "    return results_df"
   ]
  },
  {
   "cell_type": "code",
   "execution_count": 12,
   "metadata": {},
   "outputs": [
    {
     "data": {
      "text/html": [
       "<div>\n",
       "<style scoped>\n",
       "    .dataframe tbody tr th:only-of-type {\n",
       "        vertical-align: middle;\n",
       "    }\n",
       "\n",
       "    .dataframe tbody tr th {\n",
       "        vertical-align: top;\n",
       "    }\n",
       "\n",
       "    .dataframe thead th {\n",
       "        text-align: right;\n",
       "    }\n",
       "</style>\n",
       "<table border=\"1\" class=\"dataframe\">\n",
       "  <thead>\n",
       "    <tr style=\"text-align: right;\">\n",
       "      <th></th>\n",
       "      <th>coeff</th>\n",
       "      <th>pvals</th>\n",
       "      <th>conf_lower</th>\n",
       "      <th>conf_higher</th>\n",
       "    </tr>\n",
       "    <tr>\n",
       "      <th>indicators</th>\n",
       "      <th></th>\n",
       "      <th></th>\n",
       "      <th></th>\n",
       "      <th></th>\n",
       "    </tr>\n",
       "  </thead>\n",
       "  <tbody>\n",
       "    <tr>\n",
       "      <th>EMP_UnemploymentDiscouraged</th>\n",
       "      <td>-176.847147</td>\n",
       "      <td>0.045434</td>\n",
       "      <td>-349.783897</td>\n",
       "      <td>-3.910398</td>\n",
       "    </tr>\n",
       "    <tr>\n",
       "      <th>INV_ManufacturerSales</th>\n",
       "      <td>-1.675387</td>\n",
       "      <td>0.037837</td>\n",
       "      <td>-3.248199</td>\n",
       "      <td>-0.102575</td>\n",
       "    </tr>\n",
       "    <tr>\n",
       "      <th>INV_RetailSales</th>\n",
       "      <td>19.092935</td>\n",
       "      <td>0.000404</td>\n",
       "      <td>9.536568</td>\n",
       "      <td>28.649302</td>\n",
       "    </tr>\n",
       "    <tr>\n",
       "      <th>EMP_ChicagoActivity</th>\n",
       "      <td>-67.145164</td>\n",
       "      <td>0.012589</td>\n",
       "      <td>-118.464600</td>\n",
       "      <td>-15.825729</td>\n",
       "    </tr>\n",
       "    <tr>\n",
       "      <th>EMP_ContinuedClaims</th>\n",
       "      <td>0.000166</td>\n",
       "      <td>0.044392</td>\n",
       "      <td>0.000005</td>\n",
       "      <td>0.000327</td>\n",
       "    </tr>\n",
       "    <tr>\n",
       "      <th>INDU_NondurableGoodsManu</th>\n",
       "      <td>-27.099260</td>\n",
       "      <td>0.017003</td>\n",
       "      <td>-48.886269</td>\n",
       "      <td>-5.312251</td>\n",
       "    </tr>\n",
       "    <tr>\n",
       "      <th>EMP_TotalPrivate</th>\n",
       "      <td>-0.728727</td>\n",
       "      <td>0.003688</td>\n",
       "      <td>-1.195197</td>\n",
       "      <td>-0.262257</td>\n",
       "    </tr>\n",
       "    <tr>\n",
       "      <th>EMP_AllEmployeesGovt</th>\n",
       "      <td>-0.930155</td>\n",
       "      <td>0.001557</td>\n",
       "      <td>-1.466516</td>\n",
       "      <td>-0.393793</td>\n",
       "    </tr>\n",
       "    <tr>\n",
       "      <th>EMP_ConstructionAll</th>\n",
       "      <td>0.743660</td>\n",
       "      <td>0.027792</td>\n",
       "      <td>0.088719</td>\n",
       "      <td>1.398601</td>\n",
       "    </tr>\n",
       "    <tr>\n",
       "      <th>EMP_Services</th>\n",
       "      <td>0.894401</td>\n",
       "      <td>0.001465</td>\n",
       "      <td>0.382227</td>\n",
       "      <td>1.406576</td>\n",
       "    </tr>\n",
       "  </tbody>\n",
       "</table>\n",
       "</div>"
      ],
      "text/plain": [
       "                                  coeff     pvals  conf_lower  conf_higher\n",
       "indicators                                                                \n",
       "EMP_UnemploymentDiscouraged -176.847147  0.045434 -349.783897    -3.910398\n",
       "INV_ManufacturerSales         -1.675387  0.037837   -3.248199    -0.102575\n",
       "INV_RetailSales               19.092935  0.000404    9.536568    28.649302\n",
       "EMP_ChicagoActivity          -67.145164  0.012589 -118.464600   -15.825729\n",
       "EMP_ContinuedClaims            0.000166  0.044392    0.000005     0.000327\n",
       "INDU_NondurableGoodsManu     -27.099260  0.017003  -48.886269    -5.312251\n",
       "EMP_TotalPrivate              -0.728727  0.003688   -1.195197    -0.262257\n",
       "EMP_AllEmployeesGovt          -0.930155  0.001557   -1.466516    -0.393793\n",
       "EMP_ConstructionAll            0.743660  0.027792    0.088719     1.398601\n",
       "EMP_Services                   0.894401  0.001465    0.382227     1.406576"
      ]
     },
     "execution_count": 12,
     "metadata": {},
     "output_type": "execute_result"
    }
   ],
   "source": [
    "results_summary(model.lm, 'regression_best_indicators')"
   ]
  },
  {
   "cell_type": "code",
   "execution_count": null,
   "metadata": {},
   "outputs": [],
   "source": []
  },
  {
   "cell_type": "code",
   "execution_count": null,
   "metadata": {},
   "outputs": [],
   "source": []
  }
 ],
 "metadata": {
  "kernelspec": {
   "display_name": "Python 3",
   "language": "python",
   "name": "python3"
  },
  "language_info": {
   "codemirror_mode": {
    "name": "ipython",
    "version": 3
   },
   "file_extension": ".py",
   "mimetype": "text/x-python",
   "name": "python",
   "nbconvert_exporter": "python",
   "pygments_lexer": "ipython3",
   "version": "3.7.6"
  }
 },
 "nbformat": 4,
 "nbformat_minor": 2
}
