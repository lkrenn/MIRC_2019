{
 "cells": [
  {
   "cell_type": "markdown",
   "metadata": {},
   "source": [
    "## Bond Markets, Analysis and Strategies 8th ed. Chapter 22 (pg 465)"
   ]
  },
  {
   "cell_type": "markdown",
   "metadata": {},
   "source": [
    "__Asset allocation__ decides two factors of the investment strategy:\n",
    "- Type of asset to invest in (sector, geography)\n",
    "- Amount allocated to each type of asset"
   ]
  },
  {
   "cell_type": "markdown",
   "metadata": {},
   "source": [
    "### Bond Portfolio Strategies\n",
    "1. __Bond benchmark-based strategies__\n",
    "    - pure bond index matching\n",
    "    - enhanced indexing: matching primary risk factors\n",
    "    - enhanced indexing: minor risk-fator mismatches\n",
    "    - active management: larger risk-factor mismatches\n",
    "    - active management: full-blown active\n",
    "\n",
    "The individual strategies are categorized from least to most risky depending on the degree to which a portfolio manager can deviate from the quantity of risk in the benchmark. With the first three strategies, PMs cannot deviate from the duration specified in the fund's prospectus. Active management with larger risk factor mismatches defines a range of deviation from the benchmark duration, while full blown active management does not constrain the portfolio duration.\n",
    "\n",
    "__Core/Satellite Strategy__ <br>\n",
    "This involves building a blended portfolio using an indexed and active strategy. The __core component__ is a low-risk portfolio constructed using one of the indexing strategies, a broad liquid bond market index providing exposure to the same primary risk factors as the benchmark. The __satellite component__ is constructed using an active strategy with a benchmark that is a specialized rather than broad liquid bond market index. \n",
    "\n",
    "2. __Absolute return strategies__\n",
    "\n",
    "Portfolio managers seek to earn a positive return over some time frame irrespective of market conditions. Few restrictions are placed on the primary risk factors. Typically pursued by hedge fund managers employing leverage. Others set target return from 150 to 400bps above the return on cash (usually a money market reference rate such as 3m LIBOR), called __cash-based absolute return strategies__. These are a good complement to liability-driven strategies.\n",
    "\n",
    "3. __Liability-driven strategies__ (Chapter 24)\n",
    "\n",
    "Structuring portfolio to satisfy a single future liability, regardless of the course of future interest rates. __Immunization, cash flow mismatching or horizon matching__ can be employed. __Contingent immunization strategy__ allows the PM to manage the portfolio actively until certain parameters are violated. \n"
   ]
  },
  {
   "cell_type": "markdown",
   "metadata": {},
   "source": [
    "### Bond Indexes\n",
    "\n",
    "Broker/Dealer firms have developed and marketed their bond indexes because they can charge the portfolio manager to create or rebalance a portfolio. The broker/dealers keep the makeup of the indexes proprietary to lock in customers.\n",
    "\n",
    "Understanding eligibility for a security to be included in a bond index is important, as active bond strategies often attempt to outperform by buying noneligible or nonindex securities.\n",
    "\n",
    "Barclays Capital provides an extensive selection of bond indexes for investors to invest/benchmark their portfolios."
   ]
  },
  {
   "cell_type": "markdown",
   "metadata": {},
   "source": [
    "### Primary Risk Factors\n",
    "\n",
    "1. __Systematic risk factors__\n",
    "    - __term structure risk factors__: risks associated with changes in teh shape of the term structure (level and shape)\n",
    "    - __non-term structure risk factors__: risks including sector risk, credit risk, optionality risk\n",
    "        - __sector risk__: risk associated with exposure to the sectors of the benchmark. Ex: Barclays Capital US Aggragate Bond Index contains sectors of Treasury, agencies, corporates, residential agenciy MBS, commercial MBS, and ABS. The corporates sector is divided into financials, industrials, transportations, utilities, etc. Financials are divided into banking, brokerage, insurance, etc. \n",
    "        - __credit risk__: the risk associated with exposure to the credit rating of the securities in the benchmark\n",
    "        - __optionality risk__: risk associated with an adverse impact on the embedded options of the securities in the benchmark, including callable and putable corporate bonds, MBS and ABS.\n",
    "<br>\n",
    "<br>\n",
    "2. __Nonsystematic risk factors__\n",
    "    - __issuer-specific risk__: non-systematic risks associated with a particular issuer\n",
    "    - __issue-specific risk__: risks associated with a particular issue\n"
   ]
  },
  {
   "cell_type": "markdown",
   "metadata": {},
   "source": [
    "### Top-Down (Macro) Approach \n",
    "The portfolio manager looks at the major macro drivers of bond returns and obtains a view (forecast) about these drivers in teh form of a macroeconomic forecast. Variables considered include: \n",
    "- monetary policy\n",
    "- fiscal policy\n",
    "- tax policy\n",
    "- political developments\n",
    "- regulatory matters\n",
    "- exchange-rate movements\n",
    "- trade policy\n",
    "- demographic trends\n",
    "- credit market conditions\n",
    "\n",
    "PMs rely on analysis of bond markets (if permitted), sectors, and industries that will benefit the most on a relative basis from the anticipated economic forecast. Macro strategies look at changes in several macroeconomic factors to assess the expected excess return on securities and portfolios. \n"
   ]
  },
  {
   "cell_type": "markdown",
   "metadata": {},
   "source": [
    "#### Primary risk factors\n",
    "\n",
    "__Interest rate risk__: the exposure of a benchmark or portfolio to changes in the level of interest rates\n",
    "    - Duration is a quantification of this risk\n",
    "    - Portfolio managers "
   ]
  }
 ],
 "metadata": {
  "kernelspec": {
   "display_name": "Python 3",
   "language": "python",
   "name": "python3"
  },
  "language_info": {
   "codemirror_mode": {
    "name": "ipython",
    "version": 3
   },
   "file_extension": ".py",
   "mimetype": "text/x-python",
   "name": "python",
   "nbconvert_exporter": "python",
   "pygments_lexer": "ipython3",
   "version": "3.7.6"
  }
 },
 "nbformat": 4,
 "nbformat_minor": 4
}
