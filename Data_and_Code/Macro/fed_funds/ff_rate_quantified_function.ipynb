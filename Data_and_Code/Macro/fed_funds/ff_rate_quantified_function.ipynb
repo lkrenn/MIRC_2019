{
 "cells": [
  {
   "cell_type": "code",
   "execution_count": 13,
   "metadata": {},
   "outputs": [],
   "source": [
    "import pandas as pd\n",
    "import pandas_datareader as web\n",
    "from datetime import datetime as dt\n",
    "import datetime\n",
    "import calendar \n",
    "import numpy as np\n",
    "import eikon as ek\n",
    "ek.set_app_key('f01a5002bf4649578cf705c13f7d30d9bdcf2c9d')"
   ]
  },
  {
   "cell_type": "code",
   "execution_count": 14,
   "metadata": {},
   "outputs": [],
   "source": [
    "filePath = r'C:/Users/Keavan/Jupyter/Economics/fed_funds'"
   ]
  },
  {
   "cell_type": "code",
   "execution_count": 31,
   "metadata": {},
   "outputs": [],
   "source": [
    "def ff_pricing(instrument):\n",
    "    \n",
    "    try:\n",
    "        #instrument = input('Enter instrument: ')\n",
    "        futures = pd.read_csv(filePath + r'/data/{}_daily.csv'.format(instrument), header=0)\n",
    "        futures = futures.set_index('Date')\n",
    "\n",
    "        ff_codes = pd.read_csv(filePath + r'/ref/ff_codes.csv')\n",
    "        contract_month = int(ff_codes['month'][ff_codes['ric'] == instrument])\n",
    "        today = dt.today()\n",
    "        end = today.replace(day=calendar.monthrange(today.year,contract_month)[1])\n",
    "        start = end.replace(day=1)\n",
    "\n",
    "        #EFFR Calculations\n",
    "        effr = web.DataReader('EFFR', 'fred', start, end)\n",
    "        average_effr_to_date = effr['EFFR'].mean()\n",
    "\n",
    "        #Fed Funds calculations\n",
    "        price_data, err = ek.get_data(instrument, fields = 'CF_LAST')\n",
    "        current_price = price_data['CF_LAST'][0]\n",
    "\n",
    "        implied_yield = 100 - current_price\n",
    "        difference = average_effr_to_date - implied_yield\n",
    "\n",
    "        return 'The difference between the Fed Funds Futures arithmetic average of the yield and the yield implied by the market is {0:.2f}%'.format(difference)\n",
    "\n",
    "    \n",
    "    except IOError:\n",
    "        print('Error finding file.')\n",
    "    \n",
    "    except Exception as e: print(e)"
   ]
  },
  {
   "cell_type": "code",
   "execution_count": 32,
   "metadata": {},
   "outputs": [
    {
     "data": {
      "text/plain": [
       "'The difference between the Fed Funds Future arithmetic average of the yield and the yield implied by the market is 0.00%'"
      ]
     },
     "execution_count": 32,
     "metadata": {},
     "output_type": "execute_result"
    }
   ],
   "source": [
    "ff_pricing('FFG0')"
   ]
  },
  {
   "cell_type": "code",
   "execution_count": null,
   "metadata": {},
   "outputs": [],
   "source": []
  }
 ],
 "metadata": {
  "kernelspec": {
   "display_name": "Python 3",
   "language": "python",
   "name": "python3"
  },
  "language_info": {
   "codemirror_mode": {
    "name": "ipython",
    "version": 3
   },
   "file_extension": ".py",
   "mimetype": "text/x-python",
   "name": "python",
   "nbconvert_exporter": "python",
   "pygments_lexer": "ipython3",
   "version": "3.7.4"
  }
 },
 "nbformat": 4,
 "nbformat_minor": 4
}
