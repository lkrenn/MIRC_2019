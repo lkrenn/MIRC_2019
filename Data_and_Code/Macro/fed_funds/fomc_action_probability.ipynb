{
 "cells": [
  {
   "cell_type": "code",
   "execution_count": 1,
   "metadata": {},
   "outputs": [],
   "source": [
    "import pandas_datareader as web\n",
    "import pandas as pd\n",
    "from pandas.tseries.offsets import BDay\n",
    "from datetime import datetime as dt\n",
    "from datetime import date, timedelta\n",
    "import matplotlib.pyplot as plt\n",
    "import eikon as ek\n",
    "ek.set_app_key('f01a5002bf4649578cf705c13f7d30d9bdcf2c9d')"
   ]
  },
  {
   "cell_type": "code",
   "execution_count": 2,
   "metadata": {},
   "outputs": [],
   "source": [
    "today = dt.today().strftime('%Y-%m-%d')"
   ]
  },
  {
   "cell_type": "code",
   "execution_count": 18,
   "metadata": {},
   "outputs": [],
   "source": [
    "current_rate_fred = web.DataReader('DFEDTARU', 'fred', start = (pd.datetime.today() - BDay(2)).strftime('%Y-%m-%d'), end = dt.today().strftime('%Y-%m-%d'))\n",
    "current_rate = current_rate_fred['DFEDTARU'][0] - 0.125 ###^^^^^^ DOESNT WORK WITH WEEKENDS OR HOLIDAYS^^^^####"
   ]
  },
  {
   "cell_type": "code",
   "execution_count": 67,
   "metadata": {},
   "outputs": [],
   "source": [
    "meeting_dates = pd.read_csv(r'C:\\Users\\Keavan\\Jupyter\\Economics\\fed_funds\\fomc_meetings\\fomc_meetings.csv', header = 0)\n",
    "meeting_dates['date'] = pd.to_datetime(meeting_dates['date'], format='%Y-%m-%d')\n",
    "\n",
    "date = str(list(meeting_dates['date'][meeting_dates['date'] >= today])[0])\n",
    "next_meeting_date = dt.strptime(date, format('%Y-%m-%d %H:%M:%S'))\n",
    "next_meeting_month = dt.strptime(date, format('%Y-%m-%d %H:%M:%S')).month"
   ]
  },
  {
   "cell_type": "code",
   "execution_count": 58,
   "metadata": {},
   "outputs": [],
   "source": [
    "instruments = pd.read_csv(r'C:\\Users\\Keavan\\Jupyter\\Economics\\fed_funds\\ref\\ff_codes.csv', header = 0)"
   ]
  },
  {
   "cell_type": "code",
   "execution_count": 69,
   "metadata": {},
   "outputs": [],
   "source": [
    "ff_code = instruments['ric'].loc[instruments['month'] == next_meeting_month].iloc[0]"
   ]
  },
  {
   "cell_type": "code",
   "execution_count": 70,
   "metadata": {},
   "outputs": [
    {
     "data": {
      "text/plain": [
       "'FFH0'"
      ]
     },
     "execution_count": 70,
     "metadata": {},
     "output_type": "execute_result"
    }
   ],
   "source": [
    "ff_code"
   ]
  },
  {
   "cell_type": "code",
   "execution_count": 62,
   "metadata": {},
   "outputs": [],
   "source": [
    "current_price = pd.DataFrame(ek.get_data(ff_code, fields = 'CF_LAST'))[0][0]['CF_LAST'][0]"
   ]
  },
  {
   "cell_type": "code",
   "execution_count": 63,
   "metadata": {},
   "outputs": [],
   "source": [
    "implied_rate = 100 - current_price\n",
    "cut = -0.25\n",
    "hike = 0.25"
   ]
  },
  {
   "cell_type": "code",
   "execution_count": 64,
   "metadata": {},
   "outputs": [],
   "source": [
    "prob_hike = (implied_rate - current_rate) / hike\n",
    "prob_cut = (implied_rate - current_rate) / cut"
   ]
  },
  {
   "cell_type": "code",
   "execution_count": 71,
   "metadata": {},
   "outputs": [
    {
     "data": {
      "text/plain": [
       "datetime.datetime(2020, 3, 18, 0, 0)"
      ]
     },
     "execution_count": 71,
     "metadata": {},
     "output_type": "execute_result"
    }
   ],
   "source": [
    "next_meeting_date"
   ]
  },
  {
   "cell_type": "code",
   "execution_count": 78,
   "metadata": {},
   "outputs": [
    {
     "name": "stdout",
     "output_type": "stream",
     "text": [
      "The FOMC has a 20.00% chance of a cutting overnight lending rates at the next meeting on 18/3/2020.\n"
     ]
    }
   ],
   "source": [
    "ir_action_pr = max((prob_hike, prob_cut))\n",
    "if ir_action_pr == prob_hike:\n",
    "    action = 'hiking'\n",
    "else:\n",
    "    action = 'cutting'\n",
    "\n",
    "print('The FOMC has a {:.2f}% chance of a {} overnight lending rates at the next meeting on {}/{}/{}.'.format(ir_action_pr * 100,\n",
    "        action, next_meeting_date.day, next_meeting_date.month, next_meeting_date.year))"
   ]
  },
  {
   "cell_type": "code",
   "execution_count": null,
   "metadata": {},
   "outputs": [],
   "source": []
  },
  {
   "cell_type": "code",
   "execution_count": null,
   "metadata": {},
   "outputs": [],
   "source": []
  }
 ],
 "metadata": {
  "kernelspec": {
   "display_name": "Python 3",
   "language": "python",
   "name": "python3"
  },
  "language_info": {
   "codemirror_mode": {
    "name": "ipython",
    "version": 3
   },
   "file_extension": ".py",
   "mimetype": "text/x-python",
   "name": "python",
   "nbconvert_exporter": "python",
   "pygments_lexer": "ipython3",
   "version": "3.7.4"
  }
 },
 "nbformat": 4,
 "nbformat_minor": 2
}
