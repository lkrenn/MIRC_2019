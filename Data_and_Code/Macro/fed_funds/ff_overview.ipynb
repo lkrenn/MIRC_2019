{
 "cells": [
  {
   "cell_type": "markdown",
   "metadata": {},
   "source": [
    "#### Find reference files here: C:\\Users\\Keavan\\Jupyter\\Economics\\fed_funds\\ref"
   ]
  },
  {
   "cell_type": "markdown",
   "metadata": {},
   "source": [
    "# Fed Funds Futures Overview\n",
    "- traded on the Chicago Board of Trade (CBOT)\n",
    "- contracts are cash settled and do not have a daily price limit as do many other futures contracts\n",
    "- contract size is USD 5M and the minimum movement is 20.835\n",
    "- trading ceases in any contract month on the last day of the delivery month\n",
    "\n",
    "### Uses:\n",
    "- banks and portfolio managers use these contracts to hedge against unexpected shifts in short-term interest rates\n",
    "- traders use the fed funds futures to take speculative positions relative to interest rate movements and the Fed Reserve actions\n",
    "\n",
    "### Calculation:\n",
    "- quoted as the discount from par\n",
    "- fed funds rate implied is equal to 100 minus the contract price\n",
    "- fed funds futures quote can be thought of as the average price for Fed funds in a particular contract month\n",
    "- current month price is equal to a weighted average of the actual fed effective rates realized to date and the expected fed effective rates for the remainder of the month\n",
    "    - as the settlement date approaches, the contract price is impacted less by expected rates and is determined primarily by fed effective rates realized during that month\n",
    "    - pricing for contracts in deferred months (future) is based on the average expected fed effective rates for that month - solely based on expectations\n",
    "\n",
    "### Reference Rate:\n",
    "- fed funds futures tracks the Federal Funds Effective Rate, which is a transaction-volume weighted average of the previous day’s rates on trades arranged by major brokers in the market for overnight unsecured loans between depository institutions.\n",
    "\n",
    "### Price Quotation \n",
    "- Contract Unit: $4,167 * Contract IMM Index \n",
    "- Contract IMM Index: 100 - (arithmetic average of daily effective federal funds rates during the contract month)\n",
    "\n",
    "### Settlement:\n",
    "- expiring contracts are cash settled against the (arithmetic) average daily Fed Funds overnight rate for the delivery month, rounded to the nearest one-tenth of one basis point\n",
    "\n",
    "### Notes\n",
    "- if the FOMC meeting is after the middle of the month, the futures contract for the following month can be used because that contract will more fully express market expectations (this works well if the FOMC is not meeting in the following month), as it will not include any of the current months average effective fed funds rate in the calculation\n",
    "- __should look into average deviation / movement given certain economic data - does something that is highly relevant to the market cause an outsized reaction in the market???__\n",
    "- Strategy must take into account liquidity constraints - if short term funding dries up, the effective funds rate will increase\n"
   ]
  },
  {
   "cell_type": "code",
   "execution_count": null,
   "metadata": {},
   "outputs": [],
   "source": []
  }
 ],
 "metadata": {
  "kernelspec": {
   "display_name": "Python 3",
   "language": "python",
   "name": "python3"
  },
  "language_info": {
   "codemirror_mode": {
    "name": "ipython",
    "version": 3
   },
   "file_extension": ".py",
   "mimetype": "text/x-python",
   "name": "python",
   "nbconvert_exporter": "python",
   "pygments_lexer": "ipython3",
   "version": "3.7.6"
  }
 },
 "nbformat": 4,
 "nbformat_minor": 2
}
