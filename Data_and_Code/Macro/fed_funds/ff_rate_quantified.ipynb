{
 "cells": [
  {
   "cell_type": "code",
   "execution_count": 2,
   "metadata": {},
   "outputs": [],
   "source": [
    "import pandas as pd\n",
    "import pandas_datareader as web\n",
    "from datetime import datetime as dt\n",
    "import datetime\n",
    "import calendar \n",
    "import numpy as np\n",
    "import eikon as ek\n",
    "ek.set_app_key('f01a5002bf4649578cf705c13f7d30d9bdcf2c9d')"
   ]
  },
  {
   "cell_type": "code",
   "execution_count": 3,
   "metadata": {},
   "outputs": [],
   "source": [
    "filePath = r'C:/Users/Keavan/Jupyter/Economics/fed_funds'"
   ]
  },
  {
   "cell_type": "code",
   "execution_count": 4,
   "metadata": {},
   "outputs": [
    {
     "name": "stdout",
     "output_type": "stream",
     "text": [
      "Enter instrument: FFG0\n"
     ]
    }
   ],
   "source": [
    "instrument = input('Enter instrument: ')\n",
    "futures = pd.read_csv(filePath + r'/data/{}_daily.csv'.format(instrument), header=0)\n",
    "futures = futures.set_index('Date')"
   ]
  },
  {
   "cell_type": "code",
   "execution_count": 5,
   "metadata": {},
   "outputs": [],
   "source": [
    "ff_codes = pd.read_csv(filePath + r'/ref/ff_codes.csv')\n",
    "contract_month = int(ff_codes['month'][ff_codes['ric'] == instrument])\n",
    "today = dt.today()\n",
    "end = today.replace(day=calendar.monthrange(today.year,contract_month)[1])\n",
    "start = end.replace(day=1)"
   ]
  },
  {
   "cell_type": "code",
   "execution_count": 6,
   "metadata": {
    "scrolled": true
   },
   "outputs": [],
   "source": [
    "effr = web.DataReader('EFFR', 'fred', start, end)"
   ]
  },
  {
   "cell_type": "code",
   "execution_count": 11,
   "metadata": {},
   "outputs": [],
   "source": [
    "price_data, err = ek.get_data(instrument, fields = 'CF_LAST')\n",
    "current_price = price_data['CF_LAST'][0]"
   ]
  },
  {
   "cell_type": "code",
   "execution_count": 16,
   "metadata": {},
   "outputs": [],
   "source": [
    "average_effr_to_date = effr['EFFR'].mean()\n",
    "\n",
    "implied_yield = 100 - current_price\n",
    "\n",
    "difference = average_effr_to_date - implied_yield"
   ]
  },
  {
   "cell_type": "markdown",
   "metadata": {},
   "source": [
    "If the difference is > 0.0, it means that the market expects a change in rates by the end of the month. The February Fed Funds Futures is correctly priced at 98.415 as there is no meetings this month, and it is expected that the effective fed funds rate will be "
   ]
  }
 ],
 "metadata": {
  "kernelspec": {
   "display_name": "Python 3",
   "language": "python",
   "name": "python3"
  },
  "language_info": {
   "codemirror_mode": {
    "name": "ipython",
    "version": 3
   },
   "file_extension": ".py",
   "mimetype": "text/x-python",
   "name": "python",
   "nbconvert_exporter": "python",
   "pygments_lexer": "ipython3",
   "version": "3.7.4"
  }
 },
 "nbformat": 4,
 "nbformat_minor": 4
}
