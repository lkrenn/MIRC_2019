{
 "cells": [
  {
   "cell_type": "code",
   "execution_count": 1,
   "metadata": {},
   "outputs": [
    {
     "name": "stderr",
     "output_type": "stream",
     "text": [
      "c:\\users\\keavan\\appdata\\local\\programs\\python\\python37\\lib\\site-packages\\pandas_datareader\\compat\\__init__.py:7: FutureWarning: pandas.util.testing is deprecated. Use the functions in the public API at pandas.testing instead.\n",
      "  from pandas.util.testing import assert_frame_equal\n"
     ]
    }
   ],
   "source": [
    "import eikon as ek\n",
    "import pandas as pd\n",
    "import pandas_datareader as web\n",
    "import numpy as np\n",
    "from datetime import datetime as dt\n",
    "ek.set_app_key('f01a5002bf4649578cf705c13f7d30d9bdcf2c9d')"
   ]
  },
  {
   "cell_type": "code",
   "execution_count": 3,
   "metadata": {},
   "outputs": [],
   "source": [
    "fileDir = r'C:\\Users\\Keavan\\Jupyter\\Economics\\fed_funds'"
   ]
  },
  {
   "cell_type": "code",
   "execution_count": 9,
   "metadata": {},
   "outputs": [],
   "source": [
    "def fed_funds_export(start,instrument,freq):\n",
    "    end = dt.today().strftime('%Y-%m-%d')\n",
    "    data = pd.DataFrame(ek.get_timeseries(instrument, interval = freq, start_date=start, end_date=end))#['CLOSE'])\n",
    "    data.to_csv(fileDir + r'\\data\\{}_{}.csv'.format(instrument ,freq))"
   ]
  },
  {
   "cell_type": "code",
   "execution_count": 19,
   "metadata": {
    "scrolled": true
   },
   "outputs": [],
   "source": [
    "fed_funds_export('2019-11-14', 'FFZ0', 'tick') #tick data only goes back three months"
   ]
  }
 ],
 "metadata": {
  "kernelspec": {
   "display_name": "Python 3",
   "language": "python",
   "name": "python3"
  },
  "language_info": {
   "codemirror_mode": {
    "name": "ipython",
    "version": 3
   },
   "file_extension": ".py",
   "mimetype": "text/x-python",
   "name": "python",
   "nbconvert_exporter": "python",
   "pygments_lexer": "ipython3",
   "version": "3.7.4"
  }
 },
 "nbformat": 4,
 "nbformat_minor": 2
}
