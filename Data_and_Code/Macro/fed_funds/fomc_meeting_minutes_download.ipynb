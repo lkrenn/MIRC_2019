{
 "cells": [
  {
   "cell_type": "markdown",
   "metadata": {},
   "source": [
    "## Export from https://www.federalreserve.gov/monetarypolicy/"
   ]
  },
  {
   "cell_type": "code",
   "execution_count": 1,
   "metadata": {},
   "outputs": [],
   "source": [
    "import urllib.request\n",
    "import pandas as pd\n",
    "import datetime\n",
    "import numpy as np\n",
    "import os.path"
   ]
  },
  {
   "cell_type": "code",
   "execution_count": 2,
   "metadata": {},
   "outputs": [],
   "source": [
    "filePath = r'C:\\Users\\Keavan\\Jupyter\\Economics\\fed_funds'"
   ]
  },
  {
   "cell_type": "code",
   "execution_count": 3,
   "metadata": {
    "scrolled": true
   },
   "outputs": [],
   "source": [
    "dates = pd.read_csv(r'C:\\Users\\Keavan\\Jupyter\\Economics\\fed_funds\\fomc_meetings\\FOMC_meetings.csv', header = 0)"
   ]
  },
  {
   "cell_type": "code",
   "execution_count": 11,
   "metadata": {},
   "outputs": [],
   "source": [
    "today = datetime.datetime.today().strftime('%Y-%m-%d')\n",
    "release_date = (datetime.datetime.today() + datetime.timedelta(days=20)).strftime('%Y-%m-%d')"
   ]
  },
  {
   "cell_type": "code",
   "execution_count": 5,
   "metadata": {},
   "outputs": [],
   "source": [
    "dates['date'] = pd.to_datetime(dates['date'], format=('%Y-%m-%d'))\n",
    "\n",
    "mask = (dates['date'] <= today) #date filtering\n",
    "dates = dates.loc[mask] "
   ]
  },
  {
   "cell_type": "code",
   "execution_count": 18,
   "metadata": {
    "scrolled": true
   },
   "outputs": [
    {
     "name": "stdout",
     "output_type": "stream",
     "text": [
      "fomcminutes20150128 already exported\n",
      "fomcminutes20150318 already exported\n",
      "fomcminutes20150429 already exported\n",
      "fomcminutes20150617 already exported\n",
      "fomcminutes20150729 already exported\n",
      "fomcminutes20150917 already exported\n",
      "fomcminutes20151028 already exported\n",
      "fomcminutes20151216 already exported\n",
      "fomcminutes20160127 already exported\n",
      "fomcminutes20160316 already exported\n",
      "fomcminutes20160427 already exported\n",
      "fomcminutes20160615 already exported\n",
      "fomcminutes20160727 already exported\n",
      "fomcminutes20160921 already exported\n",
      "fomcminutes20161102 already exported\n",
      "fomcminutes20161214 already exported\n",
      "fomcminutes20170201 already exported\n",
      "fomcminutes20170315 already exported\n",
      "fomcminutes20170614 already exported\n",
      "fomcminutes20170726 already exported\n",
      "fomcminutes20170920 already exported\n",
      "fomcminutes20171101 already exported\n",
      "fomcminutes20171213 already exported\n",
      "fomcminutes20180131 already exported\n",
      "fomcminutes20180321 already exported\n",
      "fomcminutes20180502 already exported\n",
      "fomcminutes20180613 already exported\n",
      "fomcminutes20180801 already exported\n",
      "fomcminutes20180926 already exported\n",
      "fomcminutes20181108 already exported\n",
      "fomcminutes20181219 already exported\n",
      "fomcminutes20190130 already exported\n",
      "fomcminutes20190320 already exported\n",
      "fomcminutes20190501 already exported\n",
      "fomcminutes20190619 already exported\n",
      "fomcminutes20190731 already exported\n",
      "fomcminutes20190918 already exported\n",
      "fomcminutes20191030 already exported\n",
      "fomcminutes20191211 already exported\n",
      "Minutes from meeting on 2020-01-29 have not yet been released. Expected release date: 2020-02-18\n"
     ]
    }
   ],
   "source": [
    "for i in dates['date']:\n",
    "    \n",
    "    urlBase = r'https://www.federalreserve.gov/monetarypolicy/files/'\n",
    "    date = i.strftime('%Y%m%d')\n",
    "    fileName = 'fomcminutes{}'.format(date)\n",
    "    url = '{}{}.pdf'.format(urlBase, fileName)\n",
    "    \n",
    "    filePathOut = filePath + r\"\\fomc_meetings\\minutes\\{}.pdf\".format(fileName)\n",
    "    \n",
    "    if os.path.exists(filePathOut) == True:\n",
    "        print('{} already exported'.format(fileName))\n",
    "        pass\n",
    "    else:    \n",
    "        try:\n",
    "            urllib.request.urlretrieve(url, filePathOut)\n",
    "        \n",
    "        except Exception as e: \n",
    "            release_date = (i + datetime.timedelta(days=20)).strftime('%Y-%m-%d')\n",
    "            print('Minutes from meeting on {} have not yet been released. Expected release date: {}'.format(i.strftime('%Y-%m-%d'), release_date))\n"
   ]
  },
  {
   "cell_type": "code",
   "execution_count": null,
   "metadata": {},
   "outputs": [],
   "source": []
  }
 ],
 "metadata": {
  "kernelspec": {
   "display_name": "Python 3",
   "language": "python",
   "name": "python3"
  },
  "language_info": {
   "codemirror_mode": {
    "name": "ipython",
    "version": 3
   },
   "file_extension": ".py",
   "mimetype": "text/x-python",
   "name": "python",
   "nbconvert_exporter": "python",
   "pygments_lexer": "ipython3",
   "version": "3.7.4"
  }
 },
 "nbformat": 4,
 "nbformat_minor": 4
}
